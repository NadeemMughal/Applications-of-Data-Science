{
 "cells": [
  {
   "cell_type": "markdown",
   "id": "d6cec65b",
   "metadata": {},
   "source": [
    "# Muhammad Nadeem    \n",
    "# Bilal Butt \n",
    "# Mehar Hamid Ishfaq\n",
    "# DS-312-A\n",
    "# Application of Data Science\n",
    "# Assignment no 3"
   ]
  },
  {
   "cell_type": "code",
   "execution_count": 39,
   "id": "85460032",
   "metadata": {},
   "outputs": [
    {
     "name": "stdout",
     "output_type": "stream",
     "text": [
      "Requirement already satisfied: Faker in c:\\programdata\\anaconda3\\lib\\site-packages (17.6.0)\n",
      "Requirement already satisfied: python-dateutil>=2.4 in c:\\programdata\\anaconda3\\lib\\site-packages (from Faker) (2.8.2)\n",
      "Requirement already satisfied: six>=1.5 in c:\\programdata\\anaconda3\\lib\\site-packages (from python-dateutil>=2.4->Faker) (1.16.0)\n",
      "Note: you may need to restart the kernel to use updated packages.\n"
     ]
    }
   ],
   "source": [
    "pip install Faker\n"
   ]
  },
  {
   "cell_type": "markdown",
   "id": "a7fb9cdc",
   "metadata": {},
   "source": [
    "# Python Solved This Mystery😂"
   ]
  },
  {
   "cell_type": "code",
   "execution_count": 40,
   "id": "f05d453f",
   "metadata": {},
   "outputs": [
    {
     "data": {
      "text/plain": [
       "['🐓', '🥚']"
      ]
     },
     "execution_count": 40,
     "metadata": {},
     "output_type": "execute_result"
    }
   ],
   "source": [
    "sorted(['🥚','🐓'])"
   ]
  },
  {
   "cell_type": "code",
   "execution_count": 41,
   "id": "c2b1cdb9",
   "metadata": {},
   "outputs": [
    {
     "data": {
      "text/plain": [
       "['🐓', '🥚']"
      ]
     },
     "execution_count": 41,
     "metadata": {},
     "output_type": "execute_result"
    }
   ],
   "source": [
    "sorted(['🐓','🥚'])"
   ]
  },
  {
   "cell_type": "markdown",
   "id": "3433bebb",
   "metadata": {},
   "source": [
    "# Problem Statement\n",
    "# Train Model for check weather a Person is High Sugar or Low sugar and Train Model And Report Its Accuracy. "
   ]
  },
  {
   "cell_type": "code",
   "execution_count": 87,
   "id": "9f280904",
   "metadata": {},
   "outputs": [
    {
     "data": {
      "text/html": [
       "<div>\n",
       "<style scoped>\n",
       "    .dataframe tbody tr th:only-of-type {\n",
       "        vertical-align: middle;\n",
       "    }\n",
       "\n",
       "    .dataframe tbody tr th {\n",
       "        vertical-align: top;\n",
       "    }\n",
       "\n",
       "    .dataframe thead th {\n",
       "        text-align: right;\n",
       "    }\n",
       "</style>\n",
       "<table border=\"1\" class=\"dataframe\">\n",
       "  <thead>\n",
       "    <tr style=\"text-align: right;\">\n",
       "      <th></th>\n",
       "      <th>Name</th>\n",
       "      <th>Email</th>\n",
       "      <th>Insulin_Level</th>\n",
       "      <th>Fasting_Glucose</th>\n",
       "      <th>Age</th>\n",
       "      <th>Family_History</th>\n",
       "      <th>Physical_Activity</th>\n",
       "      <th>Diet</th>\n",
       "      <th>Label</th>\n",
       "    </tr>\n",
       "  </thead>\n",
       "  <tbody>\n",
       "    <tr>\n",
       "      <th>0</th>\n",
       "      <td>Faith Mccullough</td>\n",
       "      <td>catherine18@example.org</td>\n",
       "      <td>35.149173</td>\n",
       "      <td>237.214865</td>\n",
       "      <td>71</td>\n",
       "      <td>Yes</td>\n",
       "      <td>1.958651</td>\n",
       "      <td>Medium</td>\n",
       "      <td>High</td>\n",
       "    </tr>\n",
       "    <tr>\n",
       "      <th>1</th>\n",
       "      <td>Faith Mccullough</td>\n",
       "      <td>catherine18@example.org</td>\n",
       "      <td>31.720625</td>\n",
       "      <td>135.028612</td>\n",
       "      <td>65</td>\n",
       "      <td>No</td>\n",
       "      <td>1.234302</td>\n",
       "      <td>High</td>\n",
       "      <td>Low</td>\n",
       "    </tr>\n",
       "    <tr>\n",
       "      <th>2</th>\n",
       "      <td>Faith Mccullough</td>\n",
       "      <td>catherine18@example.org</td>\n",
       "      <td>35.247386</td>\n",
       "      <td>215.555406</td>\n",
       "      <td>88</td>\n",
       "      <td>Yes</td>\n",
       "      <td>2.349152</td>\n",
       "      <td>Medium</td>\n",
       "      <td>High</td>\n",
       "    </tr>\n",
       "    <tr>\n",
       "      <th>3</th>\n",
       "      <td>Faith Mccullough</td>\n",
       "      <td>catherine18@example.org</td>\n",
       "      <td>15.369787</td>\n",
       "      <td>219.451127</td>\n",
       "      <td>62</td>\n",
       "      <td>Yes</td>\n",
       "      <td>3.347901</td>\n",
       "      <td>High</td>\n",
       "      <td>High</td>\n",
       "    </tr>\n",
       "    <tr>\n",
       "      <th>4</th>\n",
       "      <td>Faith Mccullough</td>\n",
       "      <td>catherine18@example.org</td>\n",
       "      <td>12.533210</td>\n",
       "      <td>199.556730</td>\n",
       "      <td>67</td>\n",
       "      <td>Yes</td>\n",
       "      <td>1.130143</td>\n",
       "      <td>Medium</td>\n",
       "      <td>High</td>\n",
       "    </tr>\n",
       "  </tbody>\n",
       "</table>\n",
       "</div>"
      ],
      "text/plain": [
       "               Name                    Email  Insulin_Level  Fasting_Glucose  \\\n",
       "0  Faith Mccullough  catherine18@example.org      35.149173       237.214865   \n",
       "1  Faith Mccullough  catherine18@example.org      31.720625       135.028612   \n",
       "2  Faith Mccullough  catherine18@example.org      35.247386       215.555406   \n",
       "3  Faith Mccullough  catherine18@example.org      15.369787       219.451127   \n",
       "4  Faith Mccullough  catherine18@example.org      12.533210       199.556730   \n",
       "\n",
       "   Age Family_History  Physical_Activity    Diet Label  \n",
       "0   71            Yes           1.958651  Medium  High  \n",
       "1   65             No           1.234302    High   Low  \n",
       "2   88            Yes           2.349152  Medium  High  \n",
       "3   62            Yes           3.347901    High  High  \n",
       "4   67            Yes           1.130143  Medium  High  "
      ]
     },
     "execution_count": 87,
     "metadata": {},
     "output_type": "execute_result"
    }
   ],
   "source": [
    "import pandas as pd\n",
    "from faker import Faker\n",
    "import random\n",
    "\n",
    "fake = Faker()\n",
    "\n",
    "# Define the high sugar threshold\n",
    "high_sugar_threshold = 140\n",
    "\n",
    "# Generate 1000 records of dummy data\n",
    "num_records = 1000\n",
    "\n",
    "# Generate dummy data for each attribute\n",
    "insulin = [random.uniform(2, 50) for _ in range(num_records)]\n",
    "glucose = [random.uniform(70, 250) for _ in range(num_records)]\n",
    "age = [fake.random_int(min=18, max=100, step=1) for _ in range(num_records)]\n",
    "family_history = [random.choice(['Yes', 'No']) for _ in range(num_records)]\n",
    "physical_activity = [random.uniform(1, 5) for _ in range(num_records)]\n",
    "diet = [random.choice(['Low', 'Medium', 'High']) for _ in range(num_records)]\n",
    "\n",
    "# Assign labels based on the high sugar threshold\n",
    "labels = ['High' if g >= high_sugar_threshold else 'Low' for g in glucose]\n",
    "\n",
    "# Create a pandas dataframe\n",
    "df = pd.DataFrame({'Name':fake.name(),'Email':fake.email(),'Insulin_Level': insulin, 'Fasting_Glucose': glucose, 'Age': age,\n",
    "                   'Family_History': family_history, 'Physical_Activity': physical_activity,\n",
    "                   'Diet': diet, 'Label': labels})\n",
    "\n",
    "# Save the dataframe as a CSV file\n",
    "df.to_csv('dummy_data.csv', index=False)\n",
    "df.head()"
   ]
  },
  {
   "cell_type": "markdown",
   "id": "9fc2c610",
   "metadata": {},
   "source": [
    "# Encoding"
   ]
  },
  {
   "cell_type": "code",
   "execution_count": 88,
   "id": "c2a21ef8",
   "metadata": {},
   "outputs": [
    {
     "name": "stdout",
     "output_type": "stream",
     "text": [
      "     Name  Email  Insulin_Level  Fasting_Glucose  Age  Family_History  \\\n",
      "0       0      0      35.149173       237.214865   71               1   \n",
      "1       0      0      31.720625       135.028612   65               0   \n",
      "2       0      0      35.247386       215.555406   88               1   \n",
      "3       0      0      15.369787       219.451127   62               1   \n",
      "4       0      0      12.533210       199.556730   67               1   \n",
      "..    ...    ...            ...              ...  ...             ...   \n",
      "995     0      0      42.623465       195.316449   56               0   \n",
      "996     0      0      33.588734       133.882890   55               1   \n",
      "997     0      0       5.023597       228.187132   92               0   \n",
      "998     0      0      30.674663        78.264077   94               0   \n",
      "999     0      0      37.077999        80.109185   46               1   \n",
      "\n",
      "     Physical_Activity  Diet  Label  \n",
      "0             1.958651     2      0  \n",
      "1             1.234302     0      1  \n",
      "2             2.349152     2      0  \n",
      "3             3.347901     0      0  \n",
      "4             1.130143     2      0  \n",
      "..                 ...   ...    ...  \n",
      "995           2.742678     1      0  \n",
      "996           1.924178     1      1  \n",
      "997           3.345028     1      0  \n",
      "998           4.981729     1      1  \n",
      "999           1.159088     0      1  \n",
      "\n",
      "[1000 rows x 9 columns]\n"
     ]
    }
   ],
   "source": [
    "import pandas as pd\n",
    "from sklearn.preprocessing import LabelEncoder\n",
    "\n",
    "# load data from CSV file\n",
    "data = pd.read_csv('dummy_data.csv')\n",
    "\n",
    "# define categorical columns to encode\n",
    "cat_cols = ['Name', 'Email','Family_History','Diet','Label']\n",
    "\n",
    "# create LabelEncoder object\n",
    "le = LabelEncoder()\n",
    "\n",
    "# apply LabelEncoder to each categorical column\n",
    "data[cat_cols] = data[cat_cols].apply(lambda x: le.fit_transform(x))\n",
    "\n",
    "# print the encoded data\n",
    "print(data)\n"
   ]
  },
  {
   "cell_type": "markdown",
   "id": "38de7c84",
   "metadata": {},
   "source": [
    "# Decision Tree"
   ]
  },
  {
   "cell_type": "code",
   "execution_count": 89,
   "id": "43c0be5e",
   "metadata": {},
   "outputs": [
    {
     "name": "stdout",
     "output_type": "stream",
     "text": [
      "Accuracy: 1.0\n",
      "Confusion Matrix:\n",
      " [[120   0]\n",
      " [  0  80]]\n"
     ]
    }
   ],
   "source": [
    "from sklearn.model_selection import train_test_split\n",
    "from sklearn.tree import DecisionTreeClassifier\n",
    "from sklearn.metrics import accuracy_score, confusion_matrix\n",
    "\n",
    "\n",
    "# Split the data into training and testing sets\n",
    "X = data.drop('Label', axis=1)\n",
    "y = data['Label']\n",
    "X_train, X_test, y_train, y_test = train_test_split(X, y, test_size=0.2, random_state=42)\n",
    "\n",
    "# Instantiate the decision tree classifier\n",
    "clf = DecisionTreeClassifier(random_state=42)\n",
    "\n",
    "# Fit the decision tree classifier on the training data\n",
    "clf.fit(X_train, y_train)\n",
    "\n",
    "# Make predictions on the testing data\n",
    "y_pred = clf.predict(X_test)\n",
    "\n",
    "# Evaluate the performance of the model\n",
    "print('Accuracy:', accuracy_score(y_test, y_pred))\n",
    "print('Confusion Matrix:\\n', confusion_matrix(y_test, y_pred))\n"
   ]
  },
  {
   "cell_type": "markdown",
   "id": "0bb2c821",
   "metadata": {},
   "source": [
    "# Logistic Regression"
   ]
  },
  {
   "cell_type": "code",
   "execution_count": 90,
   "id": "22d3c082",
   "metadata": {},
   "outputs": [
    {
     "name": "stdout",
     "output_type": "stream",
     "text": [
      "Accuracy: 1.0\n"
     ]
    },
    {
     "name": "stderr",
     "output_type": "stream",
     "text": [
      "C:\\ProgramData\\Anaconda3\\lib\\site-packages\\sklearn\\linear_model\\_logistic.py:763: ConvergenceWarning: lbfgs failed to converge (status=1):\n",
      "STOP: TOTAL NO. of ITERATIONS REACHED LIMIT.\n",
      "\n",
      "Increase the number of iterations (max_iter) or scale the data as shown in:\n",
      "    https://scikit-learn.org/stable/modules/preprocessing.html\n",
      "Please also refer to the documentation for alternative solver options:\n",
      "    https://scikit-learn.org/stable/modules/linear_model.html#logistic-regression\n",
      "  n_iter_i = _check_optimize_result(\n"
     ]
    }
   ],
   "source": [
    "from sklearn.linear_model import LogisticRegression\n",
    "from sklearn.metrics import accuracy_score\n",
    "\n",
    "\n",
    "# Split data into features and target\n",
    "X = data.drop(\"Label\", axis=1)\n",
    "y = data[\"Label\"]\n",
    "\n",
    "# Split data into training and testing sets\n",
    "X_train, X_test, y_train, y_test = train_test_split(X, y, test_size=0.2, random_state=42)\n",
    "\n",
    "# Initialize logistic regression model and fit it to the training data\n",
    "lr = LogisticRegression()\n",
    "lr.fit(X_train, y_train)\n",
    "\n",
    "# Predict on the testing data\n",
    "y_pred = lr.predict(X_test)\n",
    "\n",
    "# Calculate accuracy\n",
    "accuracy = accuracy_score(y_test, y_pred)\n",
    "print(\"Accuracy:\", accuracy)\n"
   ]
  },
  {
   "cell_type": "markdown",
   "id": "c5bb748a",
   "metadata": {},
   "source": [
    "# Random Forest"
   ]
  },
  {
   "cell_type": "code",
   "execution_count": 91,
   "id": "106382fc",
   "metadata": {},
   "outputs": [
    {
     "name": "stdout",
     "output_type": "stream",
     "text": [
      "Accuracy: 1.0\n"
     ]
    }
   ],
   "source": [
    "from sklearn.ensemble import RandomForestClassifier\n",
    "from sklearn.metrics import accuracy_score\n",
    "\n",
    "# Split data into features and target\n",
    "X = data.drop(\"Label\", axis=1)\n",
    "y = data[\"Label\"]\n",
    "\n",
    "# Split data into training and testing sets\n",
    "X_train, X_test, y_train, y_test = train_test_split(X, y, test_size=0.2, random_state=42)\n",
    "\n",
    "# Initialize Random Forest model and fit it to the training data\n",
    "rf = RandomForestClassifier()\n",
    "rf.fit(X_train, y_train)\n",
    "\n",
    "# Predict on the testing data\n",
    "y_pred = rf.predict(X_test)\n",
    "\n",
    "# Calculate accuracy\n",
    "accuracy = accuracy_score(y_test, y_pred)\n",
    "print(\"Accuracy:\", accuracy)\n"
   ]
  },
  {
   "cell_type": "markdown",
   "id": "cb233e14",
   "metadata": {},
   "source": [
    "# I think It's not Overfit. Accuracies 1 on Test Data not on Train Data."
   ]
  },
  {
   "cell_type": "code",
   "execution_count": 92,
   "id": "dd924e5f",
   "metadata": {},
   "outputs": [
    {
     "data": {
      "image/png": "[encoded data removed]",
      "text/plain": [
       "<Figure size 432x288 with 1 Axes>"
      ]
     },
     "metadata": {
      "needs_background": "light"
     },
     "output_type": "display_data"
    }
   ],
   "source": [
    "import matplotlib.pyplot as plt\n",
    "\n",
    "# Define the names of the models and their accuracies\n",
    "models = ['Decision Tree', 'Logistic Regression', 'Random Forest']\n",
    "accuracies = [1.0, 1.0, 1.0]\n",
    "\n",
    "# Create a bar plot of the accuracies\n",
    "plt.bar(models, accuracies)\n",
    "\n",
    "# Add labels and title to the plot\n",
    "plt.xlabel('Model')\n",
    "plt.ylabel('Accuracy')\n",
    "plt.title('Accuracy Comparison of Different Models')\n",
    "\n",
    "# Display the plot\n",
    "plt.show()\n"
   ]
  },
  {
   "cell_type": "code",
   "execution_count": null,
   "id": "80ecab97",
   "metadata": {},
   "outputs": [],
   "source": []
  }
 ],
 "metadata": {
  "kernelspec": {
   "display_name": "Python 3 (ipykernel)",
   "language": "python",
   "name": "python3"
  },
  "language_info": {
   "codemirror_mode": {
    "name": "ipython",
    "version": 3
   },
   "file_extension": ".py",
   "mimetype": "text/x-python",
   "name": "python",
   "nbconvert_exporter": "python",
   "pygments_lexer": "ipython3",
   "version": "3.9.7"
  }
 },
 "nbformat": 4,
 "nbformat_minor": 5
}
